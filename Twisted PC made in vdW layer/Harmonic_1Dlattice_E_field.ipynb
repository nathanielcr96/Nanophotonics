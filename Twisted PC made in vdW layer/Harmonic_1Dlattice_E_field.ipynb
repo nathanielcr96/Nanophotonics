{
 "cells": [
  {
   "cell_type": "markdown",
   "metadata": {},
   "source": [
    "Script to plot the reflection, transmission and absorption of a twisted polaritonic crystal (PC) on an in-plane anisotropic material (MoO3 as example). The derivations are based on thin layer approximation."
   ]
  },
  {
   "cell_type": "markdown",
   "metadata": {},
   "source": [
    "# Open the packages for the script"
   ]
  },
  {
   "cell_type": "code",
   "execution_count": 1,
   "metadata": {},
   "outputs": [],
   "source": [
    "import numpy as np\n",
    "import matplotlib.pyplot as plt\n",
    "import scipy.special as spec"
   ]
  },
  {
   "cell_type": "code",
   "execution_count": 17,
   "metadata": {},
   "outputs": [],
   "source": [
    "# Define some useful functions for the code\n",
    "cos = np.cos\n",
    "sin = np.sin\n",
    "pi = np.pi\n",
    "exp = np.exp\n",
    "sqrt = np.sqrt\n",
    "bessel = spec.jv"
   ]
  },
  {
   "cell_type": "markdown",
   "metadata": {},
   "source": [
    "## Define the function of the permittivity of MoO3\n",
    "Parameters from paper: https://onlinelibrary.wiley.com/doi/abs/10.1002/adma.201908176"
   ]
  },
  {
   "cell_type": "code",
   "execution_count": 3,
   "metadata": {},
   "outputs": [],
   "source": [
    "def eps_harm_Osc(w, wT, wL, gamma):\n",
    "    eps_h = (w*w-wL**2+1j*gamma*w)/(w*w-wT**2+1j*gamma*w)\n",
    "    return eps_h"
   ]
  },
  {
   "cell_type": "code",
   "execution_count": 4,
   "metadata": {},
   "outputs": [],
   "source": [
    "def eps_MoO3(w, axis):\n",
    "    if(axis=='[100]'): # x-axis of MoO3\n",
    "        epsinf = 6.09\n",
    "        gamma = np.array([[73, 11.9, 2.1]])\n",
    "        wTO = np.array([[507, 822.7, 998.8]])\n",
    "        wLO = np.array([[534, 978.8, 999.5]])\n",
    "\n",
    "    if(axis=='[001]'): # z-axis of MoO3\n",
    "        epsinf = 6.38\n",
    "        gamma = np.array([[17.9]])\n",
    "        wTO = np.array([[544.9]])\n",
    "        wLO = np.array([[855.8]])\n",
    "\n",
    "    if(axis=='[010]'): # y-axis of MoO3\n",
    "        epsinf = 4.4\n",
    "        gamma = np.array([[0.7]])\n",
    "        wTO = np.array([[963]])\n",
    "        wLO = np.array([[1006.6]])\n",
    "\n",
    "    eps = np.ones(np.shape(w)[0],)\n",
    "    for i in range(np.shape(wTO)[1]):\n",
    "        eps = eps*eps_harm_Osc(w,wTO[0,i],wLO[0,i],gamma[0,i])\n",
    "\n",
    "    eps = epsinf*eps\n",
    "\n",
    "    return eps"
   ]
  },
  {
   "cell_type": "markdown",
   "metadata": {},
   "source": [
    "# Define D matrix\n",
    "Formula from the article: https://onlinelibrary.wiley.com/doi/abs/10.1002/lpor.202200428"
   ]
  },
  {
   "cell_type": "code",
   "execution_count": 5,
   "metadata": {},
   "outputs": [],
   "source": [
    "def HA_Dmatrix(kt,k0,g1t,g2t,n1,n2,e1,e2,axxr,axyr,ayyr):\n",
    "    # Function to calculate the D matrix of the PC\n",
    "\n",
    "    #Initialize\n",
    "    Ln1 = len(n1)\n",
    "    Ln2 = len(n2)\n",
    "    [c1,c2] = np.shape(axxr)\n",
    "    D = np.zeros((2*Ln1*Ln2,2*Ln1*Ln2))+0*1j\n",
    "\n",
    "    for i in range(Ln1):\n",
    "        for j in range(Ln2):\n",
    "\n",
    "            # In-plane wavenumber row\n",
    "            ktN2 = kt+n1[i]*g1t+n2[j]*g2t\n",
    "            \n",
    "            for b2 in range(2):\n",
    "                for k in range(Ln1):\n",
    "                    for l in range(Ln2):\n",
    "\n",
    "                        # In plane wavenumber column\n",
    "                        ktN1 = kt+n1[k]*g1t+n2[l]*g2t\n",
    "                        \n",
    "                        # Out-of-plane momentum\n",
    "                        qz1N = sqrt(e1*k0**2-np.vdot(ktN1,ktN1))/k0\n",
    "                        qz2N = sqrt(e2*k0**2-np.vdot(ktN1,ktN1))/k0\n",
    "\n",
    "                        # Ensure that imag(qz)>0\n",
    "                        if (np.imag(qz1N)<0):\n",
    "                            qz1N = -qz1N\n",
    "                        \n",
    "                        if (np.imag(qz2N)<0):\n",
    "                            qz2N = -qz2N\n",
    "                        \n",
    "                        #Matrix elements\n",
    "\n",
    "                        for b1 in range(2):\n",
    "                            P = 0+0*1j\n",
    "                            M = 0+0*1j\n",
    "                            \n",
    "                            if np.abs(n1[i]-n1[k])<=c1-1 and np.abs(n2[j]-n2[l])<=c2-1:\n",
    "                                \n",
    "                                # M^{b2,b1}_{N''N}\n",
    "                                if b1==0 and b2==0:\n",
    "                                    M = axxr[int(np.abs(n1[i]-n1[k])),int(np.abs(n2[j]-n2[l]))]*ktN1[0,1]*ktN2[0,1]-axyr[int(np.abs(n1[i]-n1[k])),int(np.abs(n2[j]-n2[l]))]*(ktN1[0,1]*ktN2[0,0]+ktN1[0,0]*ktN2[0,1])+ayyr[int(np.abs(n1[i]-n1[k])),int(np.abs(n2[j]-n2[l]))]*ktN1[0,0]*ktN2[0,0]\n",
    "                                elif b1==1 and b2==0:\n",
    "                                    M = -axxr[int(np.abs(n1[i]-n1[k])),int(np.abs(n2[j]-n2[l]))]*ktN1[0,0]*ktN2[0,1]+axyr[int(np.abs(n1[i]-n1[k])),int(np.abs(n2[j]-n2[l]))]*(ktN1[0,0]*ktN2[0,0]-ktN1[0,1]*ktN2[0,1])+ayyr[int(np.abs(n1[i]-n1[k])),int(np.abs(n2[j]-n2[l]))]*ktN1[0,1]*ktN2[0,0]\n",
    "                                elif b1==0 and b2==1:\n",
    "                                    M = -axxr[int(np.abs(n1[i]-n1[k])),int(np.abs(n2[j]-n2[l]))]*ktN1[0,1]*ktN2[0,0]+axyr[int(np.abs(n1[i]-n1[k])),int(np.abs(n2[j]-n2[l]))]*(ktN1[0,0]*ktN2[0,0]-ktN1[0,1]*ktN2[0,1])+ayyr[int(np.abs(n1[i]-n1[k])),int(np.abs(n2[j]-n2[l]))]*ktN1[0,0]*ktN2[0,1]\n",
    "                                elif b1==1 and b2==1:\n",
    "                                    M = axxr[int(np.abs(n1[i]-n1[k])),int(np.abs(n2[j]-n2[l]))]*ktN1[0,0]*ktN2[0,0]+axyr[int(np.abs(n1[i]-n1[k])),int(np.abs(n2[j]-n2[l]))]*(ktN1[0,1]*ktN2[0,0]+ktN1[0,0]*ktN2[0,1])+ayyr[int(np.abs(n1[i]-n1[k])),int(np.abs(n2[j]-n2[l]))]*ktN1[0,1]*ktN2[0,1]\n",
    "\n",
    "                                \n",
    "                                # Diagonal elements have an extra term\n",
    "                                if n2[j]==n2[l] and n1[i]==n1[k] and b1==b2:\n",
    "                                    if(b1==0):\n",
    "                                        P = qz1N+qz2N\n",
    "                                    elif(b1==1):\n",
    "                                        P = e1/qz1N+e2/qz2N\n",
    "                                \n",
    "                                # To avoid some 1/0\n",
    "\n",
    "                                if(M==0):\n",
    "                                    D[2*Ln2*i+2*j+b2,2*Ln2*k+2*l+b1] = P\n",
    "                                else:\n",
    "                                    D[2*Ln2*i+2*j+b2,2*Ln2*k+2*l+b1] = 2*M/(np.linalg.norm(ktN1)*np.linalg.norm(ktN2))+P\n",
    "                                    \n",
    "\n",
    "    return D\n"
   ]
  },
  {
   "cell_type": "markdown",
   "metadata": {},
   "source": [
    "# Calculate the reciprocal lattice"
   ]
  },
  {
   "cell_type": "code",
   "execution_count": 6,
   "metadata": {},
   "outputs": [],
   "source": [
    "# Inputs:\n",
    "L = 0.9 # Modulus of the vector basis for hole array in um\n",
    "mn1 = 30 # nº of harmonics to plot in the L1 direction\n",
    "mn2 = 0 # nº of harmonics to plot in the L2 direction\n",
    "d = 0.4/2 # Radius of the holes in um\n",
    "\n",
    "# Calculate the lattice vectors (square lattice, for another lattice change the vectors)\n",
    "L1 = np.array([[L,0]])\n",
    "L2 = np.array([[0,L]])\n",
    "Ln1 = 2*mn1+1 # Number of harmonics in L1 direction\n",
    "Ln2 = 2*mn2+1 # Number of harmonics in L2 direction\n",
    "n1 = np.linspace(-mn1,mn1,int(Ln1)) # Harmonics in L1 direction\n",
    "n2 = np.linspace(-mn2,mn2,int(Ln2)) # Harmonics in L2 direction\n",
    "\n",
    "# Reciprocal vector basis\n",
    "g1 = np.array([[2*pi/L1[0,0],-2*pi*L2[0,0]/(L2[0,1]*L1[0,0])]])\n",
    "g2 = np.array([[0,2*pi/L2[0,1]]])\n",
    "\n",
    "# Fourier expansion coefficients without conductivity\n",
    "fen = 2 # fen=mn1+1 to take all possible harmonics\n",
    "fem = 1 # fem=mn2+1 to take all possible harmonics\n",
    "FE = np.zeros((fen,fem))\n",
    "\n",
    "for i in range(fen):\n",
    "    for j in range(fem):\n",
    "        if((i==0)&(j==0)):\n",
    "            FE[i,j]=(1-pi*d**2/L**2)\n",
    "        else:\n",
    "            FE[i,j]=-d/(L*sqrt(i**2+j**2))*bessel(1,2*pi*d/L*sqrt(i**2+j**2))"
   ]
  },
  {
   "cell_type": "markdown",
   "metadata": {},
   "source": [
    "# Calculate the reflection and transmission\n",
    "Formula from the article: https://onlinelibrary.wiley.com/doi/abs/10.1002/lpor.202200428"
   ]
  },
  {
   "cell_type": "code",
   "execution_count": 18,
   "metadata": {},
   "outputs": [
    {
     "name": "stderr",
     "output_type": "stream",
     "text": [
      "C:\\Users\\Nathaniel\\AppData\\Local\\Temp\\ipykernel_20704\\1736001465.py:65: DeprecationWarning: Conversion of an array with ndim > 0 to a scalar is deprecated, and will error in future. Ensure you extract a single element from your array before performing this operation. (Deprecated NumPy 1.25.)\n",
      "  D[2*Ln2*i+2*j+b2,2*Ln2*k+2*l+b1] = 2*M/(np.linalg.norm(ktN1)*np.linalg.norm(ktN2))+P\n"
     ]
    }
   ],
   "source": [
    "# Inputs:\n",
    "w = np.array([[920]]) # Frequency in cm^-1\n",
    "e2 = 1 # Permittivity of the substrate\n",
    "e1 = 1 # Permittivity of the superstrate\n",
    "t = 0.1 # Thickness of the layer, in um\n",
    "theta = 0 # Twist angle\n",
    "I = np.array([[0,1]]) # Incident field as a vector, I=[Is,Ip]\n",
    "kt = np.array([[1,0]])*10e-14+0*1j # Momentum of the incident wave. Normal incidence linearly polarized along x direction\n",
    "nx = 1000 # nº of points in x\n",
    "ny = 1000 # nº of points in y\n",
    "x = np.linspace(0,4*L,nx) # Partition in x\n",
    "y = np.linspace(0,4*L,ny) # Partition in y\n",
    "\n",
    "# Script:\n",
    "\n",
    "# Grid of to be plotted\n",
    "[xx,yy] = np.meshgrid(x,y)\n",
    "\n",
    "# Permittivity of the material\n",
    "epsx = eps_MoO3(w, '[100]')\n",
    "epsy = eps_MoO3(w, '[001]')\n",
    "\n",
    "# Twisted reciprocal vector basis\n",
    "g1t = np.array([[g1[0,0]*cos(theta)-g1[0,1]*sin(theta),g1[0,0]*sin(theta)+g1[0,1]*cos(theta)]])\n",
    "g2t = np.array([[g2[0,0]*cos(theta)-g2[0,1]*sin(theta),g2[0,0]*sin(theta)+g2[0,1]*cos(theta)]])\n",
    "\n",
    "# Momentum and wavelength\n",
    "lam = 10**4/w\n",
    "k0 = 2*pi/lam\n",
    "        \n",
    "# Effective conductivity\n",
    "ax = pi*t/(1j*lam)*epsx\n",
    "ay = pi*t/(1j*lam)*epsy\n",
    "        \n",
    "# Fourier expansion conductivity\n",
    "ayyr = ay*FE\n",
    "axyr = 0*FE\n",
    "axxr = ax*FE\n",
    "        \n",
    "# Initialization of the system of equations\n",
    "V = np.zeros((2*Ln1*Ln2,1))+0*1j\n",
    "\n",
    "# Calculate out of plane momentum\n",
    "q1z = sqrt(e1*k0**2-np.vdot(kt,kt))/k0\n",
    "        \n",
    "# Ensure q1z has positive imaginary part (losses)\n",
    "if (np.imag(q1z)<0):\n",
    "    q1z = -q1z\n",
    "        \n",
    "# Matrix of the system of equations\n",
    "D = HA_Dmatrix(kt,k0,g1t,g2t,n1,n2,e1,e2,axxr,axyr,ayyr)\n",
    "        \n",
    "# Vector with the dependent variables of the system of equations\n",
    "V[Ln1*Ln2-1]=2*I[0,0]*q1z # s polariz for (0,0) harmonic\n",
    "V[Ln1*Ln2]=2*I[0,1]*e1/q1z # p polariz for (0,0) harmonic\n",
    "        \n",
    "# Solve Tn\n",
    "Tn = np.linalg. solve(D,V)\n",
    "        \n",
    "# Solve Rn\n",
    "Rn = Tn\n",
    "Rn[Ln1*Ln2-1] = Rn[Ln1*Ln2-1]-I[0,0] # s polariz for (0,0) harmonic\n",
    "Rn[Ln1*Ln2] = Rn[Ln1*Ln2]-I[0,1] # p polariz for (0,0) harmonic\n",
    "\n",
    "# Electric field along L1 direction\n",
    "Ep = np.zeros((nx,ny))+0j\n",
    "Es = np.zeros((nx,ny))+0j\n",
    "\n",
    "for i in range(Ln1):\n",
    "    for j in range(Ln2):\n",
    "        Ep = Ep+Rn[2*Ln2*i+2*j+1]*exp(1j*(xx*(n1[i]*g1t[0,0]+n2[j]*g2[0,0])+yy*(n1[i]*g1t[0,1]+n2[j]*g2t[0,1])))\n",
    "        Es = Es+Rn[2*Ln2*i+2*j]*exp(1j*(xx*(n1[i]*g1t[0,0]+n2[j]*g2[0,0])+yy*(n1[i]*g1t[0,1]+n2[j]*g2t[0,1])))"
   ]
  },
  {
   "cell_type": "markdown",
   "metadata": {},
   "source": [
    "# Plot the results"
   ]
  },
  {
   "cell_type": "code",
   "execution_count": 21,
   "metadata": {},
   "outputs": [
    {
     "name": "stderr",
     "output_type": "stream",
     "text": [
      "<>:3: SyntaxWarning: invalid escape sequence '\\m'\n",
      "<>:8: SyntaxWarning: invalid escape sequence '\\m'\n",
      "<>:3: SyntaxWarning: invalid escape sequence '\\m'\n",
      "<>:8: SyntaxWarning: invalid escape sequence '\\m'\n",
      "C:\\Users\\Nathaniel\\AppData\\Local\\Temp\\ipykernel_20704\\4059344442.py:3: SyntaxWarning: invalid escape sequence '\\m'\n",
      "  plt.xlabel(\"x ($\\mu$ m)\")\n",
      "C:\\Users\\Nathaniel\\AppData\\Local\\Temp\\ipykernel_20704\\4059344442.py:8: SyntaxWarning: invalid escape sequence '\\m'\n",
      "  plt.xlabel(\"x ($\\mu$ m)\")\n"
     ]
    },
    {
     "data": {
      "text/plain": [
       "Text(0, 0.5, 'E_s')"
      ]
     },
     "execution_count": 21,
     "metadata": {},
     "output_type": "execute_result"
    },
    {
     "data": {
      "image/png": "[encoded data removed]",
      "text/plain": [
       "<Figure size 640x480 with 1 Axes>"
      ]
     },
     "metadata": {},
     "output_type": "display_data"
    },
    {
     "data": {
      "image/png": "[encoded data removed]",
      "text/plain": [
       "<Figure size 640x480 with 1 Axes>"
      ]
     },
     "metadata": {},
     "output_type": "display_data"
    }
   ],
   "source": [
    "plt.figure(0)\n",
    "plt.plot(xx[0,:],np.real(Ep[0,:]))\n",
    "plt.xlabel(\"x ($\\mu$ m)\")\n",
    "plt.ylabel(\"E_p\")\n",
    "\n",
    "plt.figure(1)\n",
    "plt.plot(xx[0,:],np.real(Es[0,:]))\n",
    "plt.xlabel(\"x ($\\mu$ m)\")\n",
    "plt.ylabel(\"E_s\")\n"
   ]
  }
 ],
 "metadata": {
  "kernelspec": {
   "display_name": "example_env",
   "language": "python",
   "name": "python3"
  },
  "language_info": {
   "codemirror_mode": {
    "name": "ipython",
    "version": 3
   },
   "file_extension": ".py",
   "mimetype": "text/x-python",
   "name": "python",
   "nbconvert_exporter": "python",
   "pygments_lexer": "ipython3",
   "version": "3.13.1"
  }
 },
 "nbformat": 4,
 "nbformat_minor": 2
}
