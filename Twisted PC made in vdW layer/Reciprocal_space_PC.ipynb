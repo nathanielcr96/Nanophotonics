{
 "cells": [
  {
   "cell_type": "markdown",
   "metadata": {},
   "source": [
    "Script to plot the reciprocal space of a twisted polaritonic crystal (PC) on an in-plane anisotropic material (MoO3 as example). The derivations are based on thin layer approximation."
   ]
  },
  {
   "cell_type": "markdown",
   "metadata": {},
   "source": [
    "# Open the packages for the script"
   ]
  },
  {
   "cell_type": "code",
   "execution_count": 1,
   "metadata": {},
   "outputs": [],
   "source": [
    "import numpy as np\n",
    "import matplotlib.pyplot as plt"
   ]
  },
  {
   "cell_type": "code",
   "execution_count": 2,
   "metadata": {},
   "outputs": [],
   "source": [
    "# Define some useful functions for the code\n",
    "cos = np.cos\n",
    "sin = np.sin\n",
    "pi = np.pi"
   ]
  },
  {
   "cell_type": "markdown",
   "metadata": {},
   "source": [
    "## Define the function of the permittivity of MoO3\n",
    "Parameters from paper: https://onlinelibrary.wiley.com/doi/abs/10.1002/adma.201908176"
   ]
  },
  {
   "cell_type": "code",
   "execution_count": 3,
   "metadata": {},
   "outputs": [],
   "source": [
    "def eps_harm_Osc(w, wT, wL, gamma):\n",
    "    eps_h = (w*w-wL**2+1j*gamma*w)/(w*w-wT**2+1j*gamma*w)\n",
    "    return eps_h"
   ]
  },
  {
   "cell_type": "code",
   "execution_count": 4,
   "metadata": {},
   "outputs": [],
   "source": [
    "def eps_MoO3(w, axis):\n",
    "    if(axis=='[100]'): # x-axis of MoO3\n",
    "        epsinf = 6.09\n",
    "        gamma = np.array([[73, 11.9, 2.1]])\n",
    "        wTO = np.array([[507, 822.7, 998.8]])\n",
    "        wLO = np.array([[534, 978.8, 999.5]])\n",
    "\n",
    "    if(axis=='[001]'): # z-axis of MoO3\n",
    "        epsinf = 6.38\n",
    "        gamma = np.array([[17.9]])\n",
    "        wTO = np.array([[544.9]])\n",
    "        wLO = np.array([[855.8]])\n",
    "\n",
    "    if(axis=='[010]'): # y-axis of MoO3\n",
    "        epsinf = 4.4\n",
    "        gamma = np.array([[0.7]])\n",
    "        wTO = np.array([[963]])\n",
    "        wLO = np.array([[1006.6]])\n",
    "\n",
    "    eps = np.ones(np.shape(w)[0],)\n",
    "    for i in range(np.shape(wTO)[1]):\n",
    "        eps = eps*eps_harm_Osc(w,wTO[0,i],wLO[0,i],gamma[0,i])\n",
    "\n",
    "    eps = epsinf*eps\n",
    "\n",
    "    return eps"
   ]
  },
  {
   "cell_type": "markdown",
   "metadata": {},
   "source": [
    "# Calculate the reciprocal lattice"
   ]
  },
  {
   "cell_type": "code",
   "execution_count": 19,
   "metadata": {},
   "outputs": [],
   "source": [
    "# Inputs:\n",
    "L = 0.9 # Modulus of the vector basis for hole array in um\n",
    "mn1 = 7 # nº of harmonics to plot in the L1 direction\n",
    "mn2 = 7 # nº of harmonics to plot in the L2 direction\n",
    "d = 0.4/2 # Radius of the holes in um\n",
    "\n",
    "# Calculate the lattice vectors (square lattice, for another lattice change the vectors)\n",
    "L1 = np.array([[L,0]])\n",
    "L2 = np.array([[0,L]])\n",
    "\n",
    "# Reciprocal vector basis\n",
    "g1 = np.array([[2*pi/L1[0,0],-2*pi*L2[0,0]/(L2[0,1]*L1[0,0])]])\n",
    "g2 = np.array([[0,2*pi/L2[0,1]]])\n",
    "\n",
    "# Reciprocal space points\n",
    "Px = np.zeros((mn1*2+1,mn2*2+1))\n",
    "Py = np.zeros((mn1*2+1,mn2*2+1))\n",
    "\n",
    "for i in range(-mn1,mn1+1,1):\n",
    "    for j in range(-mn2,mn2+1,1):\n",
    "        Px[i,j] = i*g1[0,0]+j*g2[0,0]\n",
    "        Py[i,j] = i*g1[0,1]+j*g2[0,1]\n"
   ]
  },
  {
   "cell_type": "markdown",
   "metadata": {},
   "source": [
    "# Calculate the in-plane IFC\n",
    "Formula from the article: https://journals.aps.org/prb/abstract/10.1103/PhysRevB.100.235408"
   ]
  },
  {
   "cell_type": "code",
   "execution_count": 63,
   "metadata": {},
   "outputs": [
    {
     "name": "stdout",
     "output_type": "stream",
     "text": [
      "4.345478835313129\n"
     ]
    }
   ],
   "source": [
    "# Inputs:\n",
    "\n",
    "w = np.array([[915.6]]) # Frequency in cm^-1\n",
    "e3 = 1 # Permittivity of the substrate\n",
    "e1 = 1 # Permittivity of the superstrate\n",
    "t = 0.1 # Thickness of the layer, in um\n",
    "l = 0 # Order of the mode\n",
    "npsi = 1000 # Partition in in-plane angle\n",
    "theta = pi/6 # Twist angle\n",
    "\n",
    "# Script:\n",
    "\n",
    "# Momentum and wavelength\n",
    "lam = 10**4/w\n",
    "k0 = 2*pi/lam\n",
    "\n",
    "# Permittivity of the material\n",
    "epsx = eps_MoO3(w, '[100]')\n",
    "epsy = eps_MoO3(w, '[001]')\n",
    "epsz = eps_MoO3(w, '[010]')\n",
    "print(np.abs(epsx[0,0]))"
   ]
  },
  {
   "cell_type": "markdown",
   "metadata": {},
   "source": [
    "Different angle ranges depending on hyperbolic or elliptical dispersion"
   ]
  },
  {
   "cell_type": "markdown",
   "metadata": {},
   "source": [
    "Elliptical:"
   ]
  },
  {
   "cell_type": "code",
   "execution_count": 25,
   "metadata": {},
   "outputs": [],
   "source": [
    "# Partition in in-plane angle\n",
    "psi = np.linspace(0,2*pi,npsi)\n",
    "\n",
    "# Analytical expression for momentum as a function of the angle\n",
    "rho = 1j*np.sqrt(epsz/(epsx*np.cos(psi)**2+epsy*np.sin(psi)**2))\n",
    "q = rho/(k0*t)*(np.atan(e1*rho/epsz)+np.atan(e3*rho/epsz)+l*np.pi)"
   ]
  },
  {
   "cell_type": "markdown",
   "metadata": {},
   "source": [
    "Hyperbolic in X direction"
   ]
  },
  {
   "cell_type": "code",
   "execution_count": 64,
   "metadata": {},
   "outputs": [],
   "source": [
    "# Partition in in-plane angle\n",
    "psi1 = np.linspace(-np.atan(np.sqrt(np.abs(epsx[0,0])/np.abs(epsy[0,0]))),np.atan(np.sqrt(np.abs(epsx[0,0])/np.abs(epsy[0,0]))),int(npsi/2))\n",
    "psi2 = np.linspace(pi-np.atan(np.sqrt(np.abs(epsx[0,0])/np.abs(epsy[0,0]))),pi+np.atan(np.sqrt(np.abs(epsx[0,0])/np.abs(epsy[0,0]))),int(npsi/2))\n",
    "psi = np.concatenate((psi1,psi2))\n",
    "\n",
    "# Analytical expression for momentum as a function of the angle\n",
    "rho = 1j*np.sqrt(epsz/(epsx*np.cos(psi)**2+epsy*np.sin(psi)**2))\n",
    "q = rho/(k0*t)*(np.atan(e1*rho/epsz)+np.atan(e3*rho/epsz)+l*np.pi)"
   ]
  },
  {
   "cell_type": "markdown",
   "metadata": {},
   "source": [
    "Hyperbolic in Y direction"
   ]
  },
  {
   "cell_type": "code",
   "execution_count": 50,
   "metadata": {},
   "outputs": [],
   "source": [
    "# Partition in in-plane angle\n",
    "psi1 = np.linspace(np.atan(np.sqrt(np.abs(epsx[0,0])/np.abs(epsy[0,0]))),pi-np.atan(np.sqrt(np.abs(epsx[0,0])/np.abs(epsy[0,0]))),int(npsi/2))\n",
    "psi2 = np.linspace(pi+np.atan(np.sqrt(np.abs(epsx[0,0])/np.abs(epsy[0,0]))),2*pi-np.atan(np.sqrt(np.abs(epsx[0,0])/np.abs(epsy[0,0]))),int(npsi/2))\n",
    "psi = np.concatenate((psi1,psi2))\n",
    "\n",
    "# Analytical expression for momentum as a function of the angle\n",
    "rho = 1j*np.sqrt(epsz/(epsx*np.cos(psi)**2+epsy*np.sin(psi)**2))\n",
    "q = rho/(k0*t)*(np.atan(e1*rho/epsz)+np.atan(e3*rho/epsz)+l*np.pi)"
   ]
  },
  {
   "cell_type": "markdown",
   "metadata": {},
   "source": [
    "# Plot the reciprocal points of the lattice"
   ]
  },
  {
   "cell_type": "code",
   "execution_count": 54,
   "metadata": {},
   "outputs": [
    {
     "name": "stderr",
     "output_type": "stream",
     "text": [
      "<>:2: SyntaxWarning: invalid escape sequence '\\m'\n",
      "<>:3: SyntaxWarning: invalid escape sequence '\\m'\n",
      "<>:2: SyntaxWarning: invalid escape sequence '\\m'\n",
      "<>:3: SyntaxWarning: invalid escape sequence '\\m'\n",
      "C:\\Users\\Nathaniel\\AppData\\Local\\Temp\\ipykernel_18548\\2786778281.py:2: SyntaxWarning: invalid escape sequence '\\m'\n",
      "  plt.xlabel(\"$k_x (\\mu m^{-1})$\")\n",
      "C:\\Users\\Nathaniel\\AppData\\Local\\Temp\\ipykernel_18548\\2786778281.py:3: SyntaxWarning: invalid escape sequence '\\m'\n",
      "  plt.ylabel(\"$k_y (\\mu m^{-1})$\")\n"
     ]
    },
    {
     "data": {
      "text/plain": [
       "Text(0, 0.5, '$k_y (\\\\mu m^{-1})$')"
      ]
     },
     "execution_count": 54,
     "metadata": {},
     "output_type": "execute_result"
    },
    {
     "data": {
      "image/png": "[encoded data removed]",
      "text/plain": [
       "<Figure size 640x480 with 1 Axes>"
      ]
     },
     "metadata": {},
     "output_type": "display_data"
    }
   ],
   "source": [
    "plt.plot(Px,Py,'.b')\n",
    "plt.xlabel(\"$k_x (\\mu m^{-1})$\")\n",
    "plt.ylabel(\"$k_y (\\mu m^{-1})$\")"
   ]
  },
  {
   "cell_type": "markdown",
   "metadata": {},
   "source": [
    "# Plot the twisted IFC of the material"
   ]
  },
  {
   "cell_type": "code",
   "execution_count": 65,
   "metadata": {},
   "outputs": [
    {
     "data": {
      "text/plain": [
       "Text(0, 0.5, '$q_y$')"
      ]
     },
     "execution_count": 65,
     "metadata": {},
     "output_type": "execute_result"
    },
    {
     "data": {
      "image/png": "[encoded data removed]",
      "text/plain": [
       "<Figure size 640x480 with 1 Axes>"
      ]
     },
     "metadata": {},
     "output_type": "display_data"
    }
   ],
   "source": [
    "# Non-twisted momentum\n",
    "qx = np.abs(q)*np.cos(psi)\n",
    "qy = np.abs(q)*np.sin(psi)\n",
    "\n",
    "# Twisted momentum an angle theta\n",
    "qxx = -qy*sin(theta)+qx*cos(theta)\n",
    "qyy = qx*sin(theta)+qy*cos(theta)\n",
    "\n",
    "plt.plot(np.real(qxx),np.real(qyy),'g*')\n",
    "plt.xlabel(\"$q_x$\")\n",
    "plt.ylabel(\"$q_y$\")"
   ]
  },
  {
   "cell_type": "markdown",
   "metadata": {},
   "source": [
    "# Plot the IFC together with reciprocal lattice"
   ]
  },
  {
   "cell_type": "markdown",
   "metadata": {},
   "source": [
    "Bragg resonance condition is fullfiled when IFC coincides with one reciprocal space point"
   ]
  },
  {
   "cell_type": "code",
   "execution_count": 72,
   "metadata": {},
   "outputs": [
    {
     "data": {
      "text/plain": [
       "(-50.0, 50.0)"
      ]
     },
     "execution_count": 72,
     "metadata": {},
     "output_type": "execute_result"
    },
    {
     "data": {
      "image/png": "[encoded data removed]",
      "text/plain": [
       "<Figure size 640x480 with 1 Axes>"
      ]
     },
     "metadata": {},
     "output_type": "display_data"
    }
   ],
   "source": [
    "plt.plot(Px/k0[0,0],Py/k0[0,0],'.b')\n",
    "plt.plot(np.real(qxx),np.real(qyy),'*g')\n",
    "plt.xlabel(\"$q_x$\")\n",
    "plt.ylabel(\"$q_y$\")\n",
    "plt.xlim((-50,50))\n",
    "plt.ylim((-50,50))"
   ]
  },
  {
   "cell_type": "code",
   "execution_count": null,
   "metadata": {},
   "outputs": [],
   "source": []
  }
 ],
 "metadata": {
  "kernelspec": {
   "display_name": "example_env",
   "language": "python",
   "name": "python3"
  },
  "language_info": {
   "codemirror_mode": {
    "name": "ipython",
    "version": 3
   },
   "file_extension": ".py",
   "mimetype": "text/x-python",
   "name": "python",
   "nbconvert_exporter": "python",
   "pygments_lexer": "ipython3",
   "version": "3.13.1"
  }
 },
 "nbformat": 4,
 "nbformat_minor": 2
}
