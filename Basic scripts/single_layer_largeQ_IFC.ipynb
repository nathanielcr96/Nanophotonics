{
 "cells": [
  {
   "cell_type": "markdown",
   "metadata": {},
   "source": [
    "Script to calculate the in-plane IFC of any material (MoO3 as example). Based on high-Q approximation."
   ]
  },
  {
   "cell_type": "markdown",
   "metadata": {},
   "source": [
    "# Open the packages for the script"
   ]
  },
  {
   "cell_type": "code",
   "execution_count": 3,
   "metadata": {},
   "outputs": [],
   "source": [
    "import numpy as np\n",
    "import matplotlib.pyplot as plt"
   ]
  },
  {
   "cell_type": "code",
   "execution_count": 8,
   "metadata": {},
   "outputs": [],
   "source": [
    "# Define some useful functions for the code\n",
    "pi = np.pi"
   ]
  },
  {
   "cell_type": "markdown",
   "metadata": {},
   "source": [
    "## Define the function of the permittivity of MoO3\n",
    "Parameters from paper: https://onlinelibrary.wiley.com/doi/abs/10.1002/adma.201908176"
   ]
  },
  {
   "cell_type": "code",
   "execution_count": 4,
   "metadata": {},
   "outputs": [],
   "source": [
    "def eps_harm_Osc(w, wT, wL, gamma):\n",
    "    eps_h = (w*w-wL**2+1j*gamma*w)/(w*w-wT**2+1j*gamma*w)\n",
    "    return eps_h"
   ]
  },
  {
   "cell_type": "code",
   "execution_count": 5,
   "metadata": {},
   "outputs": [],
   "source": [
    "def eps_MoO3(w, axis):\n",
    "    if(axis=='[100]'): # x-axis of MoO3\n",
    "        epsinf = 6.09\n",
    "        gamma = np.array([[73, 11.9, 2.1]])\n",
    "        wTO = np.array([[507, 822.7, 998.8]])\n",
    "        wLO = np.array([[534, 978.8, 999.5]])\n",
    "\n",
    "    if(axis=='[001]'): # z-axis of MoO3\n",
    "        epsinf = 6.38\n",
    "        gamma = np.array([[17.9]])\n",
    "        wTO = np.array([[544.9]])\n",
    "        wLO = np.array([[855.8]])\n",
    "\n",
    "    if(axis=='[010]'): # y-axis of MoO3\n",
    "        epsinf = 4.4\n",
    "        gamma = np.array([[0.7]])\n",
    "        wTO = np.array([[963]])\n",
    "        wLO = np.array([[1006.6]])\n",
    "\n",
    "    eps = np.ones(np.shape(w)[0],)\n",
    "    for i in range(np.shape(wTO)[1]):\n",
    "        eps = eps*eps_harm_Osc(w,wTO[0,i],wLO[0,i],gamma[0,i])\n",
    "\n",
    "    eps = epsinf*eps\n",
    "\n",
    "    return eps"
   ]
  },
  {
   "cell_type": "markdown",
   "metadata": {},
   "source": [
    "# Calculate the in-plane IFC\n",
    "Formula from the article: https://journals.aps.org/prb/abstract/10.1103/PhysRevB.100.235408\n"
   ]
  },
  {
   "cell_type": "code",
   "execution_count": 6,
   "metadata": {},
   "outputs": [],
   "source": [
    "# Inputs:\n",
    "\n",
    "w = np.array([[930]]) # Frequency in cm^-1\n",
    "e3 = 1 # Permittivity of the substrate\n",
    "e1 = 1 # Permittivity of the superstrate\n",
    "t = 0.1 # Thickness of the layer, in um\n",
    "l = 0 # Order of the mode\n",
    "npsi = 1000 # Partition in in-plane angle\n",
    "\n",
    "# Script:\n",
    "\n",
    "# Momentum and wavelength\n",
    "lam = 10**4/w\n",
    "k0 = 2*np.pi/lam\n",
    "\n",
    "# Permittivity of the material\n",
    "epsx = eps_MoO3(w, '[100]')\n",
    "epsy = eps_MoO3(w, '[001]')\n",
    "epsz = eps_MoO3(w, '[010]')"
   ]
  },
  {
   "cell_type": "markdown",
   "metadata": {},
   "source": [
    "Different angle ranges depending on hyperbolic or elliptical dispersion"
   ]
  },
  {
   "cell_type": "markdown",
   "metadata": {},
   "source": [
    "Elliptical:"
   ]
  },
  {
   "cell_type": "code",
   "execution_count": null,
   "metadata": {},
   "outputs": [],
   "source": [
    "# Partition in in-plane angle\n",
    "psi = np.linspace(0,2*pi,npsi)\n",
    "\n",
    "# Analytical expression for momentum as a function of the angle\n",
    "rho = 1j*np.sqrt(epsz/(epsx*np.cos(psi)**2+epsy*np.sin(psi)**2))\n",
    "q = rho/(k0*t)*(np.atan(e1*rho/epsz)+np.atan(e3*rho/epsz)+l*np.pi)"
   ]
  },
  {
   "cell_type": "markdown",
   "metadata": {},
   "source": [
    "Hyperbolic in X direction"
   ]
  },
  {
   "cell_type": "code",
   "execution_count": 10,
   "metadata": {},
   "outputs": [],
   "source": [
    "# Partition in in-plane angle\n",
    "psi1 = np.linspace(-np.atan(np.sqrt(np.abs(epsx[0,0])/np.abs(epsy[0,0]))),np.atan(np.sqrt(np.abs(epsx[0,0])/np.abs(epsy[0,0]))),int(npsi/2))\n",
    "psi2 = np.linspace(pi-np.atan(np.sqrt(np.abs(epsx[0,0])/np.abs(epsy[0,0]))),pi+np.atan(np.sqrt(np.abs(epsx[0,0])/np.abs(epsy[0,0]))),int(npsi/2))\n",
    "psi = np.concatenate((psi1,psi2))\n",
    "\n",
    "# Analytical expression for momentum as a function of the angle\n",
    "rho = 1j*np.sqrt(epsz/(epsx*np.cos(psi)**2+epsy*np.sin(psi)**2))\n",
    "q = rho/(k0*t)*(np.atan(e1*rho/epsz)+np.atan(e3*rho/epsz)+l*np.pi)"
   ]
  },
  {
   "cell_type": "markdown",
   "metadata": {},
   "source": [
    "Hyperbolic in Y direction"
   ]
  },
  {
   "cell_type": "code",
   "execution_count": null,
   "metadata": {},
   "outputs": [],
   "source": [
    "# Partition in in-plane angle\n",
    "psi1 = np.linspace(np.atan(np.sqrt(np.abs(epsx[0,0])/np.abs(epsy[0,0]))),pi-np.atan(np.sqrt(np.abs(epsx[0,0])/np.abs(epsy[0,0]))),int(npsi/2))\n",
    "psi2 = np.linspace(pi+np.atan(np.sqrt(np.abs(epsx[0,0])/np.abs(epsy[0,0]))),2*pi-np.atan(np.sqrt(np.abs(epsx[0,0])/np.abs(epsy[0,0]))),int(npsi/2))\n",
    "psi = np.concatenate((psi1,psi2))\n",
    "\n",
    "# Analytical expression for momentum as a function of the angle\n",
    "rho = 1j*np.sqrt(epsz/(epsx*np.cos(psi)**2+epsy*np.sin(psi)**2))\n",
    "q = rho/(k0*t)*(np.atan(e1*rho/epsz)+np.atan(e3*rho/epsz)+l*np.pi)"
   ]
  },
  {
   "cell_type": "markdown",
   "metadata": {},
   "source": [
    "# Plot the IFC of the material"
   ]
  },
  {
   "cell_type": "code",
   "execution_count": 12,
   "metadata": {},
   "outputs": [
    {
     "data": {
      "text/plain": [
       "Text(0, 0.5, '$q_y$')"
      ]
     },
     "execution_count": 12,
     "metadata": {},
     "output_type": "execute_result"
    },
    {
     "data": {
      "image/png": "[encoded data removed]",
      "text/plain": [
       "<Figure size 640x480 with 1 Axes>"
      ]
     },
     "metadata": {},
     "output_type": "display_data"
    }
   ],
   "source": [
    "qx = np.abs(q)*np.cos(psi)\n",
    "qy = np.abs(q)*np.sin(psi)\n",
    "\n",
    "plt.plot(np.real(qx),np.real(qy),'g*')\n",
    "plt.xlabel(\"$q_x$\")\n",
    "plt.ylabel(\"$q_y$\")"
   ]
  },
  {
   "cell_type": "code",
   "execution_count": null,
   "metadata": {},
   "outputs": [],
   "source": []
  }
 ],
 "metadata": {
  "kernelspec": {
   "display_name": "example_env",
   "language": "python",
   "name": "python3"
  },
  "language_info": {
   "codemirror_mode": {
    "name": "ipython",
    "version": 3
   },
   "file_extension": ".py",
   "mimetype": "text/x-python",
   "name": "python",
   "nbconvert_exporter": "python",
   "pygments_lexer": "ipython3",
   "version": "3.13.1"
  }
 },
 "nbformat": 4,
 "nbformat_minor": 2
}
