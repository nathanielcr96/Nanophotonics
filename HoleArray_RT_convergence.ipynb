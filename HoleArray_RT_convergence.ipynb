{
 "cells": [
  {
   "cell_type": "markdown",
   "metadata": {},
   "source": [
    "Script to plot the reflection, transmission and absorption of a twisted polaritonic crystal (PC) on an in-plane anisotropic material (MoO3 as example). The derivations are based on thin layer approximation."
   ]
  },
  {
   "cell_type": "markdown",
   "metadata": {},
   "source": [
    "# Open the packages for the script"
   ]
  },
  {
   "cell_type": "code",
   "execution_count": 1,
   "metadata": {},
   "outputs": [],
   "source": [
    "import numpy as np\n",
    "import matplotlib.pyplot as plt\n",
    "import scipy.special as spec"
   ]
  },
  {
   "cell_type": "code",
   "execution_count": 2,
   "metadata": {},
   "outputs": [],
   "source": [
    "# Define some useful functions for the code\n",
    "cos = np.cos\n",
    "sin = np.sin\n",
    "pi = np.pi\n",
    "sqrt = np.sqrt\n",
    "bessel = spec.jv"
   ]
  },
  {
   "cell_type": "markdown",
   "metadata": {},
   "source": [
    "## Define the function of the permittivity of MoO3\n",
    "Parameters from paper: https://onlinelibrary.wiley.com/doi/abs/10.1002/adma.201908176"
   ]
  },
  {
   "cell_type": "code",
   "execution_count": 3,
   "metadata": {},
   "outputs": [],
   "source": [
    "def eps_harm_Osc(w, wT, wL, gamma):\n",
    "    eps_h = (w*w-wL**2+1j*gamma*w)/(w*w-wT**2+1j*gamma*w)\n",
    "    return eps_h"
   ]
  },
  {
   "cell_type": "code",
   "execution_count": 4,
   "metadata": {},
   "outputs": [],
   "source": [
    "def eps_MoO3(w, axis):\n",
    "    if(axis=='[100]'): # x-axis of MoO3\n",
    "        epsinf = 6.09\n",
    "        gamma = np.array([[73, 11.9, 2.1]])\n",
    "        wTO = np.array([[507, 822.7, 998.8]])\n",
    "        wLO = np.array([[534, 978.8, 999.5]])\n",
    "\n",
    "    if(axis=='[001]'): # z-axis of MoO3\n",
    "        epsinf = 6.38\n",
    "        gamma = np.array([[17.9]])\n",
    "        wTO = np.array([[544.9]])\n",
    "        wLO = np.array([[855.8]])\n",
    "\n",
    "    if(axis=='[010]'): # y-axis of MoO3\n",
    "        epsinf = 4.4\n",
    "        gamma = np.array([[0.7]])\n",
    "        wTO = np.array([[963]])\n",
    "        wLO = np.array([[1006.6]])\n",
    "\n",
    "    eps = np.ones(np.shape(w)[0],)\n",
    "    for i in range(np.shape(wTO)[1]):\n",
    "        eps = eps*eps_harm_Osc(w,wTO[0,i],wLO[0,i],gamma[0,i])\n",
    "\n",
    "    eps = epsinf*eps\n",
    "\n",
    "    return eps"
   ]
  },
  {
   "cell_type": "markdown",
   "metadata": {},
   "source": [
    "# Define T coefficient\n",
    "Expressions from the book: https://www.worldscientific.com/doi/abs/10.1142/9789813228726_0008\n",
    "Eq (8.24)"
   ]
  },
  {
   "cell_type": "code",
   "execution_count": 5,
   "metadata": {},
   "outputs": [],
   "source": [
    "def Tcoefficient(kt,k0,g1t,g2t,n1,n2,e1,e2,Tn):\n",
    "    # Function to calculate T coefficient from Tn terms\n",
    "    \n",
    "    Ln1 = len(n1)\n",
    "    Ln2 = len(n2)\n",
    "    T = 0\n",
    "\n",
    "    for i in range(Ln1):\n",
    "        for j in range(Ln2):\n",
    "\n",
    "            # In plane wavenumber\n",
    "            ktN = kt+n1[i]*g1+n2[j]*g2\n",
    "            # Calculate out of plane momentum\n",
    "            q1z = sqrt(e1*k0**2-np.vdot(kt,kt))/k0\n",
    "            q2zN = sqrt(e2*k0**2-np.vdot(ktN,ktN))/k0\n",
    "\n",
    "            # Ensure q1z has positive imaginary part (losses)\n",
    "            if (np.imag(q1z)<0):\n",
    "                q1z = -q1z\n",
    "            if (np.imag(q2zN)<0):\n",
    "                q2zN = -q2zN\n",
    "            \n",
    "            for b2 in range(2):\n",
    "                if (b2==1): # p-polarization\n",
    "                    T = T+np.real(q1z*e2/(q2zN*e1))*np.abs(Tn[2*Ln2*i+2*j+b2,0])**2\n",
    "                else:\n",
    "                    T = T+np.real(q2zN/q1z)*np.abs(Tn[2*Ln2*i+2*j+b2,0])**2\n",
    "    return T"
   ]
  },
  {
   "cell_type": "markdown",
   "metadata": {},
   "source": [
    "# Define D matrix\n",
    "Formula from the article: https://onlinelibrary.wiley.com/doi/abs/10.1002/lpor.202200428"
   ]
  },
  {
   "cell_type": "code",
   "execution_count": 6,
   "metadata": {},
   "outputs": [],
   "source": [
    "def HA_Dmatrix(kt,k0,g1t,g2t,n1,n2,e1,e2,axxr,axyr,ayyr):\n",
    "    # Function to calculate the D matrix of the PC\n",
    "\n",
    "    #Initialize\n",
    "    Ln1 = len(n1)\n",
    "    Ln2 = len(n2)\n",
    "    [c1,c2] = np.shape(axxr)\n",
    "    D = np.zeros((2*Ln1*Ln2,2*Ln1*Ln2))+0*1j\n",
    "\n",
    "    for i in range(Ln1):\n",
    "        for j in range(Ln2):\n",
    "\n",
    "            # In-plane wavenumber row\n",
    "            ktN2 = kt+n1[i]*g1t+n2[j]*g2t\n",
    "            \n",
    "            for b2 in range(2):\n",
    "                for k in range(Ln1):\n",
    "                    for l in range(Ln2):\n",
    "\n",
    "                        # In plane wavenumber column\n",
    "                        ktN1 = kt+n1[k]*g1t+n2[l]*g2t\n",
    "                        \n",
    "                        # Out-of-plane momentum\n",
    "                        qz1N = sqrt(e1*k0**2-np.vdot(ktN1,ktN1))/k0\n",
    "                        qz2N = sqrt(e2*k0**2-np.vdot(ktN1,ktN1))/k0\n",
    "\n",
    "                        # Ensure that imag(qz)>0\n",
    "                        if (np.imag(qz1N)<0):\n",
    "                            qz1N = -qz1N\n",
    "                        \n",
    "                        if (np.imag(qz2N)<0):\n",
    "                            qz2N = -qz2N\n",
    "                        \n",
    "                        #Matrix elements\n",
    "\n",
    "                        for b1 in range(2):\n",
    "                            P = 0+0*1j\n",
    "                            M = 0+0*1j\n",
    "                            \n",
    "                            if np.abs(n1[i]-n1[k])<=c1-1 and np.abs(n2[j]-n2[l])<=c2-1:\n",
    "                                \n",
    "                                # M^{b2,b1}_{N''N}\n",
    "                                if b1==0 and b2==0:\n",
    "                                    M = axxr[int(np.abs(n1[i]-n1[k])),int(np.abs(n2[j]-n2[l]))]*ktN1[0,1]*ktN2[0,1]-axyr[int(np.abs(n1[i]-n1[k])),int(np.abs(n2[j]-n2[l]))]*(ktN1[0,1]*ktN2[0,0]+ktN1[0,0]*ktN2[0,1])+ayyr[int(np.abs(n1[i]-n1[k])),int(np.abs(n2[j]-n2[l]))]*ktN1[0,0]*ktN2[0,0]\n",
    "                                elif b1==1 and b2==0:\n",
    "                                    M = -axxr[int(np.abs(n1[i]-n1[k])),int(np.abs(n2[j]-n2[l]))]*ktN1[0,0]*ktN2[0,1]+axyr[int(np.abs(n1[i]-n1[k])),int(np.abs(n2[j]-n2[l]))]*(ktN1[0,0]*ktN2[0,0]-ktN1[0,1]*ktN2[0,1])+ayyr[int(np.abs(n1[i]-n1[k])),int(np.abs(n2[j]-n2[l]))]*ktN1[0,1]*ktN2[0,0]\n",
    "                                elif b1==0 and b2==1:\n",
    "                                    M = -axxr[int(np.abs(n1[i]-n1[k])),int(np.abs(n2[j]-n2[l]))]*ktN1[0,1]*ktN2[0,0]+axyr[int(np.abs(n1[i]-n1[k])),int(np.abs(n2[j]-n2[l]))]*(ktN1[0,0]*ktN2[0,0]-ktN1[0,1]*ktN2[0,1])+ayyr[int(np.abs(n1[i]-n1[k])),int(np.abs(n2[j]-n2[l]))]*ktN1[0,0]*ktN2[0,1]\n",
    "                                elif b1==1 and b2==1:\n",
    "                                    M = axxr[int(np.abs(n1[i]-n1[k])),int(np.abs(n2[j]-n2[l]))]*ktN1[0,0]*ktN2[0,0]+axyr[int(np.abs(n1[i]-n1[k])),int(np.abs(n2[j]-n2[l]))]*(ktN1[0,1]*ktN2[0,0]+ktN1[0,0]*ktN2[0,1])+ayyr[int(np.abs(n1[i]-n1[k])),int(np.abs(n2[j]-n2[l]))]*ktN1[0,1]*ktN2[0,1]\n",
    "\n",
    "                                \n",
    "                                # Diagonal elements have an extra term\n",
    "                                if n2[j]==n2[l] and n1[i]==n1[k] and b1==b2:\n",
    "                                    if(b1==0):\n",
    "                                        P = qz1N+qz2N\n",
    "                                    elif(b1==1):\n",
    "                                        P = e1/qz1N+e2/qz2N\n",
    "                                \n",
    "                                # To avoid some 1/0\n",
    "\n",
    "                                if(M==0):\n",
    "                                    D[2*Ln2*i+2*j+b2,2*Ln2*k+2*l+b1] = P\n",
    "                                else:\n",
    "                                    D[2*Ln2*i+2*j+b2,2*Ln2*k+2*l+b1] = 2*M/(np.linalg.norm(ktN1)*np.linalg.norm(ktN2))+P\n",
    "                                    \n",
    "\n",
    "    return D\n"
   ]
  },
  {
   "cell_type": "markdown",
   "metadata": {},
   "source": [
    "# Calculate the reciprocal lattice"
   ]
  },
  {
   "cell_type": "code",
   "execution_count": 7,
   "metadata": {},
   "outputs": [],
   "source": [
    "# Inputs:\n",
    "L = 0.9 # Modulus of the vector basis for hole array in um\n",
    "mn1 = 25 # nº of harmonics to plot in the L1 direction\n",
    "mn2 = 25 # nº of harmonics to plot in the L2 direction\n",
    "d = 0.4/2 # Radius of the holes in um\n",
    "\n",
    "# Calculate the lattice vectors (square lattice, for another lattice change the vectors)\n",
    "L1 = np.array([[L,0]])\n",
    "L2 = np.array([[0,L]])\n",
    "Ln1 = 2*mn1+1 # Number of harmonics in L1 direction\n",
    "Ln2 = 2*mn2+1 # Number of harmonics in L2 direction\n",
    "n1 = np.linspace(-mn1,mn1,int(Ln1)) # Harmonics in L1 direction\n",
    "n2 = np.linspace(-mn2,mn2,int(Ln2)) # Harmonics in L2 direction\n",
    "\n",
    "# Reciprocal vector basis\n",
    "g1 = np.array([[2*pi/L1[0,0],-2*pi*L2[0,0]/(L2[0,1]*L1[0,0])]])\n",
    "g2 = np.array([[0,2*pi/L2[0,1]]])\n",
    "\n",
    "# Fourier expansion coefficients without conductivity\n",
    "fen = mn1+1 # fen=mn1+1 to take all possible harmonics\n",
    "fem = mn2+1 # fem=mn2+1 to take all possible harmonics\n",
    "FE = np.zeros((fen,fem))\n",
    "\n",
    "for i in range(fen):\n",
    "    for j in range(fem):\n",
    "        if((i==0)&(j==0)):\n",
    "            FE[i,j]=(1-pi*d**2/L**2)\n",
    "        else:\n",
    "            FE[i,j]=-d/(L*sqrt(i**2+j**2))*bessel(1,2*pi*d/L*sqrt(i**2+j**2))"
   ]
  },
  {
   "cell_type": "markdown",
   "metadata": {},
   "source": [
    "# Calculate the reflection and transmission\n",
    "Formula from the article: https://onlinelibrary.wiley.com/doi/abs/10.1002/lpor.202200428"
   ]
  },
  {
   "cell_type": "code",
   "execution_count": 8,
   "metadata": {},
   "outputs": [
    {
     "ename": "KeyboardInterrupt",
     "evalue": "",
     "output_type": "error",
     "traceback": [
      "\u001b[1;31m---------------------------------------------------------------------------\u001b[0m",
      "\u001b[1;31mKeyboardInterrupt\u001b[0m                         Traceback (most recent call last)",
      "Cell \u001b[1;32mIn[8], line 55\u001b[0m\n\u001b[0;32m     52\u001b[0m n2k \u001b[38;5;241m=\u001b[39m np\u001b[38;5;241m.\u001b[39mlinspace(\u001b[38;5;241m-\u001b[39mk,k,\u001b[38;5;28mint\u001b[39m(\u001b[38;5;241m2\u001b[39m\u001b[38;5;241m*\u001b[39mk\u001b[38;5;241m+\u001b[39m\u001b[38;5;241m1\u001b[39m))\n\u001b[0;32m     54\u001b[0m \u001b[38;5;66;03m# Matrix of the system of equations\u001b[39;00m\n\u001b[1;32m---> 55\u001b[0m D \u001b[38;5;241m=\u001b[39m \u001b[43mHA_Dmatrix\u001b[49m\u001b[43m(\u001b[49m\u001b[43mkt\u001b[49m\u001b[43m,\u001b[49m\u001b[43mk0\u001b[49m\u001b[43m,\u001b[49m\u001b[43mg1t\u001b[49m\u001b[43m,\u001b[49m\u001b[43mg2t\u001b[49m\u001b[43m,\u001b[49m\u001b[43mn1k\u001b[49m\u001b[43m,\u001b[49m\u001b[43mn2k\u001b[49m\u001b[43m,\u001b[49m\u001b[43me1\u001b[49m\u001b[43m,\u001b[49m\u001b[43me2\u001b[49m\u001b[43m,\u001b[49m\u001b[43maxxr\u001b[49m\u001b[43m,\u001b[49m\u001b[43maxyr\u001b[49m\u001b[43m,\u001b[49m\u001b[43mayyr\u001b[49m\u001b[43m)\u001b[49m\n\u001b[0;32m     57\u001b[0m \u001b[38;5;66;03m# Vector with the dependent variables of the system of equations\u001b[39;00m\n\u001b[0;32m     58\u001b[0m V[(\u001b[38;5;241m2\u001b[39m\u001b[38;5;241m*\u001b[39mk)\u001b[38;5;241m*\u001b[39m\u001b[38;5;241m*\u001b[39m\u001b[38;5;241m2\u001b[39m]\u001b[38;5;241m=\u001b[39m\u001b[38;5;241m2\u001b[39m\u001b[38;5;241m*\u001b[39mI[\u001b[38;5;241m0\u001b[39m,\u001b[38;5;241m0\u001b[39m]\u001b[38;5;241m*\u001b[39mq1z \u001b[38;5;66;03m# s polariz for (0,0) harmonic\u001b[39;00m\n",
      "Cell \u001b[1;32mIn[6], line 65\u001b[0m, in \u001b[0;36mHA_Dmatrix\u001b[1;34m(kt, k0, g1t, g2t, n1, n2, e1, e2, axxr, axyr, ayyr)\u001b[0m\n\u001b[0;32m     63\u001b[0m                                 D[\u001b[38;5;241m2\u001b[39m\u001b[38;5;241m*\u001b[39mLn2\u001b[38;5;241m*\u001b[39mi\u001b[38;5;241m+\u001b[39m\u001b[38;5;241m2\u001b[39m\u001b[38;5;241m*\u001b[39mj\u001b[38;5;241m+\u001b[39mb2,\u001b[38;5;241m2\u001b[39m\u001b[38;5;241m*\u001b[39mLn2\u001b[38;5;241m*\u001b[39mk\u001b[38;5;241m+\u001b[39m\u001b[38;5;241m2\u001b[39m\u001b[38;5;241m*\u001b[39ml\u001b[38;5;241m+\u001b[39mb1] \u001b[38;5;241m=\u001b[39m P\n\u001b[0;32m     64\u001b[0m                             \u001b[38;5;28;01melse\u001b[39;00m:\n\u001b[1;32m---> 65\u001b[0m                                 D[\u001b[38;5;241m2\u001b[39m\u001b[38;5;241m*\u001b[39mLn2\u001b[38;5;241m*\u001b[39mi\u001b[38;5;241m+\u001b[39m\u001b[38;5;241m2\u001b[39m\u001b[38;5;241m*\u001b[39mj\u001b[38;5;241m+\u001b[39mb2,\u001b[38;5;241m2\u001b[39m\u001b[38;5;241m*\u001b[39mLn2\u001b[38;5;241m*\u001b[39mk\u001b[38;5;241m+\u001b[39m\u001b[38;5;241m2\u001b[39m\u001b[38;5;241m*\u001b[39ml\u001b[38;5;241m+\u001b[39mb1] \u001b[38;5;241m=\u001b[39m \u001b[38;5;241m2\u001b[39m\u001b[38;5;241m*\u001b[39mM\u001b[38;5;241m/\u001b[39m(np\u001b[38;5;241m.\u001b[39mlinalg\u001b[38;5;241m.\u001b[39mnorm(ktN1)\u001b[38;5;241m*\u001b[39m\u001b[43mnp\u001b[49m\u001b[38;5;241;43m.\u001b[39;49m\u001b[43mlinalg\u001b[49m\u001b[38;5;241;43m.\u001b[39;49m\u001b[43mnorm\u001b[49m\u001b[43m(\u001b[49m\u001b[43mktN2\u001b[49m\u001b[43m)\u001b[49m)\u001b[38;5;241m+\u001b[39mP\n\u001b[0;32m     68\u001b[0m \u001b[38;5;28;01mreturn\u001b[39;00m D\n",
      "File \u001b[1;32mc:\\Users\\Nathaniel\\miniconda3\\envs\\example_env\\Lib\\site-packages\\numpy\\linalg\\_linalg.py:2742\u001b[0m, in \u001b[0;36mnorm\u001b[1;34m(x, ord, axis, keepdims)\u001b[0m\n\u001b[0;32m   2740\u001b[0m     x_real \u001b[38;5;241m=\u001b[39m x\u001b[38;5;241m.\u001b[39mreal\n\u001b[0;32m   2741\u001b[0m     x_imag \u001b[38;5;241m=\u001b[39m x\u001b[38;5;241m.\u001b[39mimag\n\u001b[1;32m-> 2742\u001b[0m     sqnorm \u001b[38;5;241m=\u001b[39m \u001b[43mx_real\u001b[49m\u001b[38;5;241;43m.\u001b[39;49m\u001b[43mdot\u001b[49m\u001b[43m(\u001b[49m\u001b[43mx_real\u001b[49m\u001b[43m)\u001b[49m \u001b[38;5;241m+\u001b[39m x_imag\u001b[38;5;241m.\u001b[39mdot(x_imag)\n\u001b[0;32m   2743\u001b[0m \u001b[38;5;28;01melse\u001b[39;00m:\n\u001b[0;32m   2744\u001b[0m     sqnorm \u001b[38;5;241m=\u001b[39m x\u001b[38;5;241m.\u001b[39mdot(x)\n",
      "\u001b[1;31mKeyboardInterrupt\u001b[0m: "
     ]
    }
   ],
   "source": [
    "# Inputs:\n",
    "w = np.array([[861.6,870.4,894]]) # Frequency in cm^-1\n",
    "[empty,nw] = np.shape(w)\n",
    "e2 = 1 # Permittivity of the substrate\n",
    "e1 = 1 # Permittivity of the superstrate\n",
    "t = 0.1 # Thickness of the layer, in um\n",
    "theta = 0 # Twist angle\n",
    "I = np.array([[0,1]]) # Incident field as a vector, I=[Is,Ip]\n",
    "kt = np.array([[1,0]])*10e-14+0*1j # Momentum of the incident wave. Normal incidence linearly polarized along x direction\n",
    "\n",
    "# Script:\n",
    "\n",
    "# Permittivity of the material\n",
    "epsx = eps_MoO3(w, '[100]')\n",
    "epsy = eps_MoO3(w, '[001]')\n",
    "\n",
    "# Initialization of T and R\n",
    "T = np.zeros((nw,fen))\n",
    "\n",
    "# Twisted reciprocal vector basis\n",
    "g1t = np.array([[g1[0,0]*cos(theta)-g1[0,1]*sin(theta),g1[0,0]*sin(theta)+g1[0,1]*cos(theta)]])\n",
    "g2t = np.array([[g2[0,0]*cos(theta)-g2[0,1]*sin(theta),g2[0,0]*sin(theta)+g2[0,1]*cos(theta)]])\n",
    "\n",
    "for h in range(nw):\n",
    "    \n",
    "    # Momentum and wavelength\n",
    "    lam = 10**4/w[0,h]\n",
    "    k0 = 2*pi/lam\n",
    "        \n",
    "    # Effective conductivity\n",
    "    ax = pi*t/(1j*lam)*epsx[0,h]\n",
    "    ay = pi*t/(1j*lam)*epsy[0,h]\n",
    "\n",
    "    for k in range(mn1+1):\n",
    "        \n",
    "        # Fourier expansion conductivity\n",
    "        ayyr = ay*FE[0:k+1,0:k+1]\n",
    "        axyr = 0*FE[0:k+1,0:k+1]\n",
    "        axxr = ax*FE[0:k+1,0:k+1]\n",
    "\n",
    "        # Initialization of the system of equations\n",
    "        V = np.zeros((2*(2*k+1)**2,1))+0*1j\n",
    "\n",
    "        # Calculate out of plane momentum\n",
    "        q1z = sqrt(e1*k0**2-np.vdot(kt,kt))/k0\n",
    "        \n",
    "        # Ensure q1z has positive imaginary part (losses)\n",
    "        if (np.imag(q1z)<0):\n",
    "            q1z = -q1z\n",
    "        \n",
    "        n1k = np.linspace(-k,k,int(2*k+1))\n",
    "        n2k = np.linspace(-k,k,int(2*k+1))\n",
    "\n",
    "        # Matrix of the system of equations\n",
    "        D = HA_Dmatrix(kt,k0,g1t,g2t,n1k,n2k,e1,e2,axxr,axyr,ayyr)\n",
    "        \n",
    "        # Vector with the dependent variables of the system of equations\n",
    "        V[(2*k)**2]=2*I[0,0]*q1z # s polariz for (0,0) harmonic\n",
    "        V[(2*k)**2+1]=2*I[0,1]*e1/q1z # p polariz for (0,0) harmonic\n",
    "        \n",
    "        # Solve Tn\n",
    "        Tn = np.linalg. solve(D,V)\n",
    "        \n",
    "        # Obtain R and T for each frequency\n",
    "        T[h,k] = Tcoefficient(kt,k0,g1t,g2t,n1k,n2k,e1,e2,Tn)\n"
   ]
  },
  {
   "cell_type": "markdown",
   "metadata": {},
   "source": [
    "# Plot the results"
   ]
  },
  {
   "cell_type": "code",
   "execution_count": 9,
   "metadata": {},
   "outputs": [
    {
     "data": {
      "text/plain": [
       "Text(0.5, 0, 'nº of harmoncis')"
      ]
     },
     "execution_count": 9,
     "metadata": {},
     "output_type": "execute_result"
    },
    {
     "data": {
      "image/png": "[encoded data removed]",
      "text/plain": [
       "<Figure size 640x480 with 1 Axes>"
      ]
     },
     "metadata": {},
     "output_type": "display_data"
    }
   ],
   "source": [
    "n1p = np.linspace(0,mn1,int(mn1+1))\n",
    "\n",
    "for h in range(nw):\n",
    "    plt.plot(n1p,T[h,:])\n",
    "\n",
    "plt.ylabel(\"T\")\n",
    "plt.xlabel(\"nº of harmoncis\")"
   ]
  }
 ],
 "metadata": {
  "kernelspec": {
   "display_name": "example_env",
   "language": "python",
   "name": "python3"
  },
  "language_info": {
   "codemirror_mode": {
    "name": "ipython",
    "version": 3
   },
   "file_extension": ".py",
   "mimetype": "text/x-python",
   "name": "python",
   "nbconvert_exporter": "python",
   "pygments_lexer": "ipython3",
   "version": "3.13.1"
  }
 },
 "nbformat": 4,
 "nbformat_minor": 2
}
